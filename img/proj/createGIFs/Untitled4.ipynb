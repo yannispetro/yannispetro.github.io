{
 "cells": [
  {
   "cell_type": "code",
   "execution_count": 83,
   "metadata": {},
   "outputs": [],
   "source": [
    "from PIL import Image\n",
    "pathIn= './imgscat/'\n",
    "pathOut = './imgscat2/'\n",
    "# pathIn= './imgcar/'\n",
    "# pathOut = './imgcar2/'\n",
    "files = [f for f in os.listdir(pathIn) if isfile(join(pathIn, f))]\n",
    "files.sort()\n",
    "for i in range(len(files)):\n",
    "    filenameIn=pathIn + files[i]\n",
    "    filenameOut=pathOut + files[i]\n",
    "    filenameOut = filenameOut[:-3] + 'jpg'\n",
    "    foo = Image.open(filenameIn)\n",
    "#     print(filenameOut)\n",
    "#     print(foo.size)\n",
    "    foo = foo.resize((400,300),Image.ANTIALIAS)\n",
    "#     foo = foo.resize((609,300),Image.ANTIALIAS)\n",
    "    foo.save(filenameOut,optimize=True,quality=95)"
   ]
  },
  {
   "cell_type": "code",
   "execution_count": 84,
   "metadata": {},
   "outputs": [],
   "source": [
    "import imageio\n",
    "images = []\n",
    "pathIn= './imgscat2/'\n",
    "pathOut = 'moviescat.gif'\n",
    "# pathIn= './imgcar2/'\n",
    "# pathOut = 'moviecar.gif'\n",
    "files = [f for f in os.listdir(pathIn) if isfile(join(pathIn, f))]\n",
    "files.sort()\n",
    "for i in range(len(files)):\n",
    "    filename=pathIn + files[i]\n",
    "    images.append(imageio.imread(filename))\n",
    "imageio.mimsave(pathOut, images)"
   ]
  },
  {
   "cell_type": "code",
   "execution_count": 74,
   "metadata": {},
   "outputs": [
    {
     "name": "stdout",
     "output_type": "stream",
     "text": [
      "(624, 300)\n"
     ]
    }
   ],
   "source": [
    "foo = Image.open('sparse.png')\n",
    "print(foo.size)\n",
    "foo = foo.resize((832,400),Image.ANTIALIAS)\n",
    "foo.save('sparse.png',optimize=True,quality=95)"
   ]
  },
  {
   "cell_type": "code",
   "execution_count": null,
   "metadata": {},
   "outputs": [],
   "source": []
  }
 ],
 "metadata": {
  "kernelspec": {
   "display_name": "Python 3",
   "language": "python",
   "name": "python3"
  },
  "language_info": {
   "codemirror_mode": {
    "name": "ipython",
    "version": 3
   },
   "file_extension": ".py",
   "mimetype": "text/x-python",
   "name": "python",
   "nbconvert_exporter": "python",
   "pygments_lexer": "ipython3",
   "version": "3.7.3"
  }
 },
 "nbformat": 4,
 "nbformat_minor": 2
}
